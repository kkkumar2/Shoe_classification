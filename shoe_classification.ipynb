{
  "nbformat": 4,
  "nbformat_minor": 0,
  "metadata": {
    "colab": {
      "name": "shoe_classification.ipynb",
      "provenance": [],
      "collapsed_sections": [],
      "authorship_tag": "ABX9TyPKzCaHftwimqgCfZZqaLcl",
      "include_colab_link": true
    },
    "kernelspec": {
      "name": "python3",
      "display_name": "Python 3"
    },
    "language_info": {
      "name": "python"
    },
    "accelerator": "GPU"
  },
  "cells": [
    {
      "cell_type": "markdown",
      "metadata": {
        "id": "view-in-github",
        "colab_type": "text"
      },
      "source": [
        "<a href=\"https://colab.research.google.com/github/kkkumar2/Shoe_classification/blob/main/shoe_classification.ipynb\" target=\"_parent\"><img src=\"https://colab.research.google.com/assets/colab-badge.svg\" alt=\"Open In Colab\"/></a>"
      ]
    },
    {
      "cell_type": "code",
      "source": [
        "from google.colab import drive\n",
        "drive.mount('/content/drive')"
      ],
      "metadata": {
        "colab": {
          "base_uri": "https://localhost:8080/"
        },
        "id": "s0pNtVCcf7HC",
        "outputId": "b3f19834-5572-43c1-9c78-abb31c422bc3"
      },
      "execution_count": 1,
      "outputs": [
        {
          "output_type": "stream",
          "name": "stdout",
          "text": [
            "Mounted at /content/drive\n"
          ]
        }
      ]
    },
    {
      "cell_type": "code",
      "source": [
        "cd /content/drive/MyDrive/Imarticus/DL EXAM/Shoe Classification"
      ],
      "metadata": {
        "colab": {
          "base_uri": "https://localhost:8080/"
        },
        "id": "Ulv6Pf9Vf75k",
        "outputId": "9c2882d7-5bbd-455e-97b7-0bb8a4a39931"
      },
      "execution_count": 2,
      "outputs": [
        {
          "output_type": "stream",
          "name": "stdout",
          "text": [
            "/content/drive/MyDrive/Imarticus/DL EXAM/Shoe Classification\n"
          ]
        }
      ]
    },
    {
      "cell_type": "code",
      "source": [
        "pwd"
      ],
      "metadata": {
        "colab": {
          "base_uri": "https://localhost:8080/",
          "height": 35
        },
        "id": "cY_zRL7OgKL8",
        "outputId": "b95de109-84ae-417d-ebde-f38cf8c8eebf"
      },
      "execution_count": 3,
      "outputs": [
        {
          "output_type": "execute_result",
          "data": {
            "text/plain": [
              "'/content/drive/MyDrive/Imarticus/DL EXAM/Shoe Classification'"
            ],
            "application/vnd.google.colaboratory.intrinsic+json": {
              "type": "string"
            }
          },
          "metadata": {},
          "execution_count": 3
        }
      ]
    },
    {
      "cell_type": "code",
      "source": [
        "train_path=\"/content/drive/MyDrive/Imarticus/DL EXAM/Shoe Classification/train\"\n",
        "val_path=\"/content/drive/MyDrive/Imarticus/DL EXAM/Shoe Classification/test\"\n",
        "test_path=\"/content/drive/MyDrive/Imarticus/DL EXAM/Shoe Classification/test1\""
      ],
      "metadata": {
        "id": "99vgyHr3gK-x"
      },
      "execution_count": 4,
      "outputs": []
    },
    {
      "cell_type": "code",
      "source": [
        "from keras.models import Sequential\n",
        "from keras.layers import Conv2D\n",
        "from keras.layers import MaxPooling2D\n",
        "from keras.layers import Flatten\n",
        "from keras.layers import Dense, Dropout\n",
        "from tensorflow.keras.layers import BatchNormalization\n",
        "\n",
        "from tensorflow.keras.layers import Input, Lambda, Dense, Flatten, MaxPool2D \n",
        "from tensorflow.keras.models import Model\n",
        "from tensorflow.keras.preprocessing import image\n",
        "from tensorflow.keras.preprocessing.image import ImageDataGenerator\n",
        "from tensorflow.keras.models import Sequential\n",
        "from tensorflow.keras import optimizers\n",
        "from tensorflow.keras.optimizers import Adam\n",
        "import numpy as np\n",
        "from glob import glob\n",
        "import matplotlib.pyplot as plt\n",
        "from datetime import datetime\n",
        "from tensorflow.keras.callbacks import ModelCheckpoint, LearningRateScheduler\n",
        "from tensorflow.keras.callbacks import ReduceLROnPlateau\n",
        "from tensorflow.keras.callbacks import ModelCheckpoint ,EarlyStopping\n",
        "import warnings\n",
        "warnings.filterwarnings(\"ignore\", category=FutureWarning)\n"
      ],
      "metadata": {
        "id": "UG2PgndZghBZ"
      },
      "execution_count": 10,
      "outputs": []
    },
    {
      "cell_type": "code",
      "source": [
        "model = Sequential()\n",
        "model.add(Conv2D(input_shape=(224,224,3),filters=64,kernel_size=(3,3),padding=\"same\", activation=\"relu\"))\n",
        "model.add(Conv2D(filters=64,kernel_size=(3,3),padding=\"same\", activation=\"relu\"))\n",
        "model.add(MaxPool2D(pool_size=(2,2),strides=(2,2)))\n",
        "model.add(Conv2D(filters=128, kernel_size=(3,3), padding=\"same\", activation=\"relu\"))\n",
        "model.add(Conv2D(filters=128, kernel_size=(3,3), padding=\"same\", activation=\"relu\"))\n",
        "model.add(MaxPool2D(pool_size=(2,2),strides=(2,2)))\n",
        "model.add(Conv2D(filters=256, kernel_size=(3,3), padding=\"same\", activation=\"relu\"))\n",
        "model.add(Conv2D(filters=256, kernel_size=(3,3), padding=\"same\", activation=\"relu\"))\n",
        "model.add(Conv2D(filters=256, kernel_size=(3,3), padding=\"same\", activation=\"relu\"))\n",
        "model.add(MaxPool2D(pool_size=(2,2),strides=(2,2)))\n",
        "model.add(Conv2D(filters=512, kernel_size=(3,3), padding=\"same\", activation=\"relu\"))\n",
        "model.add(Conv2D(filters=512, kernel_size=(3,3), padding=\"same\", activation=\"relu\"))\n",
        "model.add(Conv2D(filters=512, kernel_size=(3,3), padding=\"same\", activation=\"relu\"))\n",
        "model.add(MaxPool2D(pool_size=(2,2),strides=(2,2)))\n",
        "model.add(Conv2D(filters=512, kernel_size=(3,3), padding=\"same\", activation=\"relu\"))\n",
        "model.add(Conv2D(filters=512, kernel_size=(3,3), padding=\"same\", activation=\"relu\"))\n",
        "model.add(Conv2D(filters=512, kernel_size=(3,3), padding=\"same\", activation=\"relu\"))\n",
        "model.add(MaxPool2D(pool_size=(2,2),strides=(2,2)))\n",
        "\n",
        "model.add(Flatten())\n",
        "model.add(Dense(units=3, activation=\"softmax\"))\n",
        "\n",
        "# (4) Compile \n",
        "model.compile(loss='CategoricalCrossentropy', optimizer='adam',metrics=['accuracy'])\n",
        " \n",
        "model.summary()"
      ],
      "metadata": {
        "colab": {
          "base_uri": "https://localhost:8080/"
        },
        "id": "0xfnrnrngj1_",
        "outputId": "d05dfa35-9720-435e-96ab-7700dc8d3978"
      },
      "execution_count": 6,
      "outputs": [
        {
          "output_type": "stream",
          "name": "stdout",
          "text": [
            "Model: \"sequential\"\n",
            "_________________________________________________________________\n",
            " Layer (type)                Output Shape              Param #   \n",
            "=================================================================\n",
            " conv2d (Conv2D)             (None, 224, 224, 64)      1792      \n",
            "                                                                 \n",
            " conv2d_1 (Conv2D)           (None, 224, 224, 64)      36928     \n",
            "                                                                 \n",
            " max_pooling2d (MaxPooling2D  (None, 112, 112, 64)     0         \n",
            " )                                                               \n",
            "                                                                 \n",
            " conv2d_2 (Conv2D)           (None, 112, 112, 128)     73856     \n",
            "                                                                 \n",
            " conv2d_3 (Conv2D)           (None, 112, 112, 128)     147584    \n",
            "                                                                 \n",
            " max_pooling2d_1 (MaxPooling  (None, 56, 56, 128)      0         \n",
            " 2D)                                                             \n",
            "                                                                 \n",
            " conv2d_4 (Conv2D)           (None, 56, 56, 256)       295168    \n",
            "                                                                 \n",
            " conv2d_5 (Conv2D)           (None, 56, 56, 256)       590080    \n",
            "                                                                 \n",
            " conv2d_6 (Conv2D)           (None, 56, 56, 256)       590080    \n",
            "                                                                 \n",
            " max_pooling2d_2 (MaxPooling  (None, 28, 28, 256)      0         \n",
            " 2D)                                                             \n",
            "                                                                 \n",
            " conv2d_7 (Conv2D)           (None, 28, 28, 512)       1180160   \n",
            "                                                                 \n",
            " conv2d_8 (Conv2D)           (None, 28, 28, 512)       2359808   \n",
            "                                                                 \n",
            " conv2d_9 (Conv2D)           (None, 28, 28, 512)       2359808   \n",
            "                                                                 \n",
            " max_pooling2d_3 (MaxPooling  (None, 14, 14, 512)      0         \n",
            " 2D)                                                             \n",
            "                                                                 \n",
            " conv2d_10 (Conv2D)          (None, 14, 14, 512)       2359808   \n",
            "                                                                 \n",
            " conv2d_11 (Conv2D)          (None, 14, 14, 512)       2359808   \n",
            "                                                                 \n",
            " conv2d_12 (Conv2D)          (None, 14, 14, 512)       2359808   \n",
            "                                                                 \n",
            " max_pooling2d_4 (MaxPooling  (None, 7, 7, 512)        0         \n",
            " 2D)                                                             \n",
            "                                                                 \n",
            " flatten (Flatten)           (None, 25088)             0         \n",
            "                                                                 \n",
            " dense (Dense)               (None, 3)                 75267     \n",
            "                                                                 \n",
            "=================================================================\n",
            "Total params: 14,789,955\n",
            "Trainable params: 14,789,955\n",
            "Non-trainable params: 0\n",
            "_________________________________________________________________\n"
          ]
        }
      ]
    },
    {
      "cell_type": "code",
      "source": [
        "# Part 2 - Fitting the CNN to the images\n",
        "\n",
        "# Data Augmentation\n",
        "train_datagen = ImageDataGenerator(\n",
        "    rotation_range=40,\n",
        "    width_shift_range=0.2,\n",
        "    height_shift_range=0.2,\n",
        "    shear_range=0.2,\n",
        "    zoom_range=0.2,\n",
        "    horizontal_flip=True,\n",
        "    fill_mode='nearest')\n",
        "# Data Augmentation\n",
        "test_datagen = ImageDataGenerator(\n",
        "    rotation_range=40,\n",
        "    width_shift_range=0.2,\n",
        "    height_shift_range=0.2,\n",
        "    shear_range=0.2,\n",
        "    zoom_range=0.2,\n",
        "    horizontal_flip=True,\n",
        "    fill_mode='nearest')\n",
        "# Data Augmentation\n",
        "valid_datagen = ImageDataGenerator(\n",
        "    rotation_range=40,\n",
        "    width_shift_range=0.2,\n",
        "    height_shift_range=0.2,\n",
        "    shear_range=0.2,\n",
        "    zoom_range=0.2,\n",
        "    horizontal_flip=True,\n",
        "    fill_mode='nearest')\n",
        "\n",
        "# Make sure you provide the same target size as initialied for the image size\n",
        "train_set = train_datagen.flow_from_directory(train_path,\n",
        "                                                 target_size = (224, 224),\n",
        "                                                 batch_size = 32,\n",
        "                                                 class_mode = 'categorical')\n",
        "\n",
        "\n",
        "\n",
        "valid_set = train_datagen.flow_from_directory(val_path,\n",
        "                                                 target_size = (224, 224),\n",
        "                                                 batch_size = 32,\n",
        "                                                 class_mode = 'categorical')  "
      ],
      "metadata": {
        "colab": {
          "base_uri": "https://localhost:8080/"
        },
        "id": "ojJJNGxNheUQ",
        "outputId": "dd03a2fb-7132-42d8-9bf4-1898279d42c4"
      },
      "execution_count": 7,
      "outputs": [
        {
          "output_type": "stream",
          "name": "stdout",
          "text": [
            "Found 778 images belonging to 3 classes.\n",
            "Found 74 images belonging to 3 classes.\n"
          ]
        }
      ]
    },
    {
      "cell_type": "code",
      "source": [
        "checkpoint = ModelCheckpoint(filepath='vgg16_scratch.h5', \n",
        "                               verbose=1, save_best_only=True)\n",
        "\n",
        "early_stopping = EarlyStopping(monitor='val_loss',\n",
        "                          min_delta=0,\n",
        "                          patience=5,\n",
        "                          verbose=1,\n",
        "                          restore_best_weights=True\n",
        "                          )\n",
        "\n",
        "lr_reducer = ReduceLROnPlateau(factor=np.sqrt(0.1),\n",
        "                               cooldown=0,\n",
        "                               patience=5,\n",
        "                               min_lr=0.5e-6)\n",
        "\n",
        "\n",
        "callbacks = [checkpoint,early_stopping,lr_reducer]\n",
        "\n",
        "#callbacks = [checkpoint]\n",
        "\n",
        "start = datetime.now()\n",
        "\n",
        "model.fit_generator(\n",
        "  train_set,\n",
        "  validation_data=valid_set,\n",
        "  epochs=30,\n",
        "  steps_per_epoch=5,\n",
        "  validation_steps=valid_set.n //valid_set.batch_size,\n",
        "    callbacks=callbacks)\n",
        "\n",
        "\n",
        "duration = datetime.now() - start\n",
        "print(\"Training completed in time: \", duration)     "
      ],
      "metadata": {
        "colab": {
          "base_uri": "https://localhost:8080/"
        },
        "id": "XkANT6VwiAhb",
        "outputId": "204e2bb1-81cb-49ca-b8e8-f0fceeff7cb2"
      },
      "execution_count": 11,
      "outputs": [
        {
          "output_type": "stream",
          "name": "stderr",
          "text": [
            "/usr/local/lib/python3.7/dist-packages/ipykernel_launcher.py:29: UserWarning: `Model.fit_generator` is deprecated and will be removed in a future version. Please use `Model.fit`, which supports generators.\n"
          ]
        },
        {
          "output_type": "stream",
          "name": "stdout",
          "text": [
            "Epoch 1/30\n",
            "5/5 [==============================] - ETA: 0s - loss: 1.1017 - accuracy: 0.3623\n",
            "Epoch 1: val_loss improved from inf to 1.12483, saving model to vgg16_scratch.h5\n",
            "5/5 [==============================] - 11s 3s/step - loss: 1.1017 - accuracy: 0.3623 - val_loss: 1.1248 - val_accuracy: 0.3438 - lr: 0.0010\n",
            "Epoch 2/30\n",
            "5/5 [==============================] - ETA: 0s - loss: 1.0759 - accuracy: 0.4058\n",
            "Epoch 2: val_loss improved from 1.12483 to 1.09956, saving model to vgg16_scratch.h5\n",
            "5/5 [==============================] - 9s 2s/step - loss: 1.0759 - accuracy: 0.4058 - val_loss: 1.0996 - val_accuracy: 0.3906 - lr: 0.0010\n",
            "Epoch 3/30\n",
            "5/5 [==============================] - ETA: 0s - loss: 1.0725 - accuracy: 0.3812\n",
            "Epoch 3: val_loss did not improve from 1.09956\n",
            "5/5 [==============================] - 8s 1s/step - loss: 1.0725 - accuracy: 0.3812 - val_loss: 1.1139 - val_accuracy: 0.3750 - lr: 0.0010\n",
            "Epoch 4/30\n",
            "5/5 [==============================] - ETA: 0s - loss: 1.0651 - accuracy: 0.4125\n",
            "Epoch 4: val_loss did not improve from 1.09956\n",
            "5/5 [==============================] - 7s 1s/step - loss: 1.0651 - accuracy: 0.4125 - val_loss: 1.1336 - val_accuracy: 0.3594 - lr: 0.0010\n",
            "Epoch 5/30\n",
            "5/5 [==============================] - ETA: 0s - loss: 1.0590 - accuracy: 0.4062\n",
            "Epoch 5: val_loss did not improve from 1.09956\n",
            "5/5 [==============================] - 7s 1s/step - loss: 1.0590 - accuracy: 0.4062 - val_loss: 1.1463 - val_accuracy: 0.3906 - lr: 0.0010\n",
            "Epoch 6/30\n",
            "5/5 [==============================] - ETA: 0s - loss: 1.0366 - accuracy: 0.3986\n",
            "Epoch 6: val_loss did not improve from 1.09956\n",
            "5/5 [==============================] - 5s 1s/step - loss: 1.0366 - accuracy: 0.3986 - val_loss: 1.1848 - val_accuracy: 0.3594 - lr: 0.0010\n",
            "Epoch 7/30\n",
            "5/5 [==============================] - ETA: 0s - loss: 1.0153 - accuracy: 0.4420\n",
            "Epoch 7: val_loss did not improve from 1.09956\n",
            "Restoring model weights from the end of the best epoch: 2.\n",
            "5/5 [==============================] - 7s 1s/step - loss: 1.0153 - accuracy: 0.4420 - val_loss: 1.2041 - val_accuracy: 0.3438 - lr: 0.0010\n",
            "Epoch 7: early stopping\n",
            "Training completed in time:  0:01:09.345469\n"
          ]
        }
      ]
    },
    {
      "cell_type": "code",
      "source": [
        "#importing all depandancies \n",
        "from tensorflow.keras.layers import Input, Lambda, Dense, Flatten ,Conv2D,MaxPool2D,Dropout\n",
        "from tensorflow.keras.models import Model\n",
        "from tensorflow.keras.applications.vgg16 import VGG16\n",
        "from tensorflow.keras.applications.vgg16 import preprocess_input\n",
        "from tensorflow.keras.preprocessing import image\n",
        "from tensorflow.keras.preprocessing.image import ImageDataGenerator\n",
        "from tensorflow.keras.models import Sequential\n",
        "import numpy as np\n",
        "from glob import glob\n",
        "#import matplotlib.pyplot as plt\n",
        "\n",
        "import warnings\n",
        "warnings.filterwarnings(\"ignore\", category=FutureWarning)"
      ],
      "metadata": {
        "id": "HFtkGaIcnOQk"
      },
      "execution_count": 13,
      "outputs": []
    },
    {
      "cell_type": "code",
      "source": [
        "IMAGE_SIZE = [224, 224]\n",
        "#Defining and downloading VGG 16 model\n",
        "vgg = VGG16(input_shape=IMAGE_SIZE + [3], weights='imagenet', include_top=False)"
      ],
      "metadata": {
        "id": "cJWG6DLCnHQY"
      },
      "execution_count": 24,
      "outputs": []
    },
    {
      "cell_type": "code",
      "source": [
        "#Frzeeing existing weights\n",
        "for layer in vgg.layers:\n",
        "  layer.trainable = False\n",
        "  print(layer,layer.trainable)"
      ],
      "metadata": {
        "colab": {
          "base_uri": "https://localhost:8080/"
        },
        "id": "XYdYWjE-nReq",
        "outputId": "1ea0540f-7ae6-4e91-c0ca-00c139a28b5a"
      },
      "execution_count": 25,
      "outputs": [
        {
          "output_type": "stream",
          "name": "stdout",
          "text": [
            "<keras.engine.input_layer.InputLayer object at 0x7ff539889b50> False\n",
            "<keras.layers.convolutional.Conv2D object at 0x7ff53a234c50> False\n",
            "<keras.layers.convolutional.Conv2D object at 0x7ff53a126490> False\n",
            "<keras.layers.pooling.MaxPooling2D object at 0x7ff539893e90> False\n",
            "<keras.layers.convolutional.Conv2D object at 0x7ff53989c950> False\n",
            "<keras.layers.convolutional.Conv2D object at 0x7ff5398a0e10> False\n",
            "<keras.layers.pooling.MaxPooling2D object at 0x7ff539893710> False\n",
            "<keras.layers.convolutional.Conv2D object at 0x7ff539828210> False\n",
            "<keras.layers.convolutional.Conv2D object at 0x7ff53982da90> False\n",
            "<keras.layers.convolutional.Conv2D object at 0x7ff539828c10> False\n",
            "<keras.layers.pooling.MaxPooling2D object at 0x7ff53983a710> False\n",
            "<keras.layers.convolutional.Conv2D object at 0x7ff53983ad90> False\n",
            "<keras.layers.convolutional.Conv2D object at 0x7ff53988edd0> False\n",
            "<keras.layers.convolutional.Conv2D object at 0x7ff539836d10> False\n",
            "<keras.layers.pooling.MaxPooling2D object at 0x7ff53984e310> False\n",
            "<keras.layers.convolutional.Conv2D object at 0x7ff539851c50> False\n",
            "<keras.layers.convolutional.Conv2D object at 0x7ff53a26edd0> False\n",
            "<keras.layers.convolutional.Conv2D object at 0x7ff539856cd0> False\n",
            "<keras.layers.pooling.MaxPooling2D object at 0x7ff539866490> False\n"
          ]
        }
      ]
    },
    {
      "cell_type": "code",
      "source": [
        "# useful for getting number of classes\n",
        "folders = glob(\"/content/drive/MyDrive/Imarticus/DL EXAM/Shoe Classification/train/*\")\n",
        "print(len(folders))"
      ],
      "metadata": {
        "colab": {
          "base_uri": "https://localhost:8080/"
        },
        "id": "da1TSuGwnRhK",
        "outputId": "3e58aa02-4f85-4b28-b9a7-51114da8495a"
      },
      "execution_count": 26,
      "outputs": [
        {
          "output_type": "stream",
          "name": "stdout",
          "text": [
            "3\n"
          ]
        }
      ]
    },
    {
      "cell_type": "code",
      "source": [
        "x = Flatten()(vgg.output)\n",
        "prediction = Dense(len(folders), activation='softmax')(x)\n",
        "model = Model(inputs=vgg.input, outputs=prediction)\n",
        "model.summary()"
      ],
      "metadata": {
        "colab": {
          "base_uri": "https://localhost:8080/"
        },
        "id": "bKkgN0eHnRjt",
        "outputId": "47e0b7d6-a97c-4cf0-e02e-a61b6ba4c1cd"
      },
      "execution_count": 27,
      "outputs": [
        {
          "output_type": "stream",
          "name": "stdout",
          "text": [
            "Model: \"model_1\"\n",
            "_________________________________________________________________\n",
            " Layer (type)                Output Shape              Param #   \n",
            "=================================================================\n",
            " input_2 (InputLayer)        [(None, 224, 224, 3)]     0         \n",
            "                                                                 \n",
            " block1_conv1 (Conv2D)       (None, 224, 224, 64)      1792      \n",
            "                                                                 \n",
            " block1_conv2 (Conv2D)       (None, 224, 224, 64)      36928     \n",
            "                                                                 \n",
            " block1_pool (MaxPooling2D)  (None, 112, 112, 64)      0         \n",
            "                                                                 \n",
            " block2_conv1 (Conv2D)       (None, 112, 112, 128)     73856     \n",
            "                                                                 \n",
            " block2_conv2 (Conv2D)       (None, 112, 112, 128)     147584    \n",
            "                                                                 \n",
            " block2_pool (MaxPooling2D)  (None, 56, 56, 128)       0         \n",
            "                                                                 \n",
            " block3_conv1 (Conv2D)       (None, 56, 56, 256)       295168    \n",
            "                                                                 \n",
            " block3_conv2 (Conv2D)       (None, 56, 56, 256)       590080    \n",
            "                                                                 \n",
            " block3_conv3 (Conv2D)       (None, 56, 56, 256)       590080    \n",
            "                                                                 \n",
            " block3_pool (MaxPooling2D)  (None, 28, 28, 256)       0         \n",
            "                                                                 \n",
            " block4_conv1 (Conv2D)       (None, 28, 28, 512)       1180160   \n",
            "                                                                 \n",
            " block4_conv2 (Conv2D)       (None, 28, 28, 512)       2359808   \n",
            "                                                                 \n",
            " block4_conv3 (Conv2D)       (None, 28, 28, 512)       2359808   \n",
            "                                                                 \n",
            " block4_pool (MaxPooling2D)  (None, 14, 14, 512)       0         \n",
            "                                                                 \n",
            " block5_conv1 (Conv2D)       (None, 14, 14, 512)       2359808   \n",
            "                                                                 \n",
            " block5_conv2 (Conv2D)       (None, 14, 14, 512)       2359808   \n",
            "                                                                 \n",
            " block5_conv3 (Conv2D)       (None, 14, 14, 512)       2359808   \n",
            "                                                                 \n",
            " block5_pool (MaxPooling2D)  (None, 7, 7, 512)         0         \n",
            "                                                                 \n",
            " flatten_2 (Flatten)         (None, 25088)             0         \n",
            "                                                                 \n",
            " dense_2 (Dense)             (None, 3)                 75267     \n",
            "                                                                 \n",
            "=================================================================\n",
            "Total params: 14,789,955\n",
            "Trainable params: 75,267\n",
            "Non-trainable params: 14,714,688\n",
            "_________________________________________________________________\n"
          ]
        }
      ]
    },
    {
      "cell_type": "code",
      "source": [
        "model.compile(loss='CategoricalCrossentropy', optimizer='adam',metrics=['accuracy'])"
      ],
      "metadata": {
        "id": "MElOE4RGoXR8"
      },
      "execution_count": 28,
      "outputs": []
    },
    {
      "cell_type": "code",
      "source": [
        "checkpoint = ModelCheckpoint(filepath='vgg16_pretrained.h5', \n",
        "                               verbose=1, save_best_only=True)\n",
        "\n",
        "early_stopping = EarlyStopping(monitor='val_loss',\n",
        "                          min_delta=0,\n",
        "                          patience=5,\n",
        "                          verbose=1,\n",
        "                          restore_best_weights=True\n",
        "                          )\n",
        "\n",
        "lr_reducer = ReduceLROnPlateau(factor=np.sqrt(0.1),\n",
        "                               cooldown=0,\n",
        "                               patience=5,\n",
        "                               min_lr=0.5e-6)\n",
        "\n",
        "\n",
        "callbacks = [checkpoint,early_stopping,lr_reducer]\n",
        "\n",
        "#callbacks = [checkpoint]\n",
        "\n",
        "start = datetime.now()\n",
        "\n",
        "history = model.fit_generator(\n",
        "  train_set,\n",
        "  validation_data=valid_set,\n",
        "  epochs=30,\n",
        "  steps_per_epoch=5,\n",
        "  validation_steps=valid_set.n //valid_set.batch_size,\n",
        "    callbacks=callbacks)\n",
        "\n",
        "\n",
        "duration = datetime.now() - start\n",
        "print(\"Training completed in time: \", duration)     "
      ],
      "metadata": {
        "colab": {
          "base_uri": "https://localhost:8080/"
        },
        "id": "oS9DDzKanRmF",
        "outputId": "fe8203e5-ee70-4d91-ea2c-5aac658fd3ea"
      },
      "execution_count": 30,
      "outputs": [
        {
          "output_type": "stream",
          "name": "stderr",
          "text": [
            "/usr/local/lib/python3.7/dist-packages/ipykernel_launcher.py:29: UserWarning: `Model.fit_generator` is deprecated and will be removed in a future version. Please use `Model.fit`, which supports generators.\n"
          ]
        },
        {
          "output_type": "stream",
          "name": "stdout",
          "text": [
            "Epoch 1/30\n",
            "5/5 [==============================] - ETA: 0s - loss: 1.8877 - accuracy: 0.8813\n",
            "Epoch 1: val_loss improved from inf to 1.20793, saving model to vgg16_pretrained.h5\n",
            "5/5 [==============================] - 6s 1s/step - loss: 1.8877 - accuracy: 0.8813 - val_loss: 1.2079 - val_accuracy: 0.8906 - lr: 3.1623e-04\n",
            "Epoch 2/30\n",
            "5/5 [==============================] - ETA: 0s - loss: 1.6221 - accuracy: 0.8938\n",
            "Epoch 2: val_loss did not improve from 1.20793\n",
            "5/5 [==============================] - 4s 896ms/step - loss: 1.6221 - accuracy: 0.8938 - val_loss: 2.8291 - val_accuracy: 0.8594 - lr: 3.1623e-04\n",
            "Epoch 3/30\n",
            "5/5 [==============================] - ETA: 0s - loss: 1.3051 - accuracy: 0.9125\n",
            "Epoch 3: val_loss did not improve from 1.20793\n",
            "5/5 [==============================] - 4s 939ms/step - loss: 1.3051 - accuracy: 0.9125 - val_loss: 1.5066 - val_accuracy: 0.9062 - lr: 3.1623e-04\n",
            "Epoch 4/30\n",
            "5/5 [==============================] - ETA: 0s - loss: 1.4182 - accuracy: 0.9187\n",
            "Epoch 4: val_loss did not improve from 1.20793\n",
            "5/5 [==============================] - 5s 989ms/step - loss: 1.4182 - accuracy: 0.9187 - val_loss: 1.6223 - val_accuracy: 0.8750 - lr: 3.1623e-04\n",
            "Epoch 5/30\n",
            "5/5 [==============================] - ETA: 0s - loss: 1.3480 - accuracy: 0.9058\n",
            "Epoch 5: val_loss did not improve from 1.20793\n",
            "5/5 [==============================] - 4s 837ms/step - loss: 1.3480 - accuracy: 0.9058 - val_loss: 1.3188 - val_accuracy: 0.9375 - lr: 3.1623e-04\n",
            "Epoch 6/30\n",
            "5/5 [==============================] - ETA: 0s - loss: 1.0911 - accuracy: 0.9375\n",
            "Epoch 6: val_loss did not improve from 1.20793\n",
            "Restoring model weights from the end of the best epoch: 1.\n",
            "5/5 [==============================] - 4s 918ms/step - loss: 1.0911 - accuracy: 0.9375 - val_loss: 2.6194 - val_accuracy: 0.8750 - lr: 3.1623e-04\n",
            "Epoch 6: early stopping\n",
            "Training completed in time:  0:00:35.499800\n"
          ]
        }
      ]
    },
    {
      "cell_type": "code",
      "source": [
        "import pandas as pd\n",
        "df = pd.DataFrame(history.history)\n",
        "df"
      ],
      "metadata": {
        "colab": {
          "base_uri": "https://localhost:8080/",
          "height": 238
        },
        "id": "4Lv571EYqZDi",
        "outputId": "b0eea764-5270-4dd3-810e-1da332d2c627"
      },
      "execution_count": 33,
      "outputs": [
        {
          "output_type": "execute_result",
          "data": {
            "text/plain": [
              "       loss  accuracy  val_loss  val_accuracy        lr\n",
              "0  1.887682  0.881250  1.207930      0.890625  0.000316\n",
              "1  1.622127  0.893750  2.829067      0.859375  0.000316\n",
              "2  1.305106  0.912500  1.506570      0.906250  0.000316\n",
              "3  1.418210  0.918750  1.622327      0.875000  0.000316\n",
              "4  1.348018  0.905797  1.318842      0.937500  0.000316\n",
              "5  1.091061  0.937500  2.619386      0.875000  0.000316"
            ],
            "text/html": [
              "\n",
              "  <div id=\"df-1f81f9b1-1586-4207-b321-6d7ebd86a936\">\n",
              "    <div class=\"colab-df-container\">\n",
              "      <div>\n",
              "<style scoped>\n",
              "    .dataframe tbody tr th:only-of-type {\n",
              "        vertical-align: middle;\n",
              "    }\n",
              "\n",
              "    .dataframe tbody tr th {\n",
              "        vertical-align: top;\n",
              "    }\n",
              "\n",
              "    .dataframe thead th {\n",
              "        text-align: right;\n",
              "    }\n",
              "</style>\n",
              "<table border=\"1\" class=\"dataframe\">\n",
              "  <thead>\n",
              "    <tr style=\"text-align: right;\">\n",
              "      <th></th>\n",
              "      <th>loss</th>\n",
              "      <th>accuracy</th>\n",
              "      <th>val_loss</th>\n",
              "      <th>val_accuracy</th>\n",
              "      <th>lr</th>\n",
              "    </tr>\n",
              "  </thead>\n",
              "  <tbody>\n",
              "    <tr>\n",
              "      <th>0</th>\n",
              "      <td>1.887682</td>\n",
              "      <td>0.881250</td>\n",
              "      <td>1.207930</td>\n",
              "      <td>0.890625</td>\n",
              "      <td>0.000316</td>\n",
              "    </tr>\n",
              "    <tr>\n",
              "      <th>1</th>\n",
              "      <td>1.622127</td>\n",
              "      <td>0.893750</td>\n",
              "      <td>2.829067</td>\n",
              "      <td>0.859375</td>\n",
              "      <td>0.000316</td>\n",
              "    </tr>\n",
              "    <tr>\n",
              "      <th>2</th>\n",
              "      <td>1.305106</td>\n",
              "      <td>0.912500</td>\n",
              "      <td>1.506570</td>\n",
              "      <td>0.906250</td>\n",
              "      <td>0.000316</td>\n",
              "    </tr>\n",
              "    <tr>\n",
              "      <th>3</th>\n",
              "      <td>1.418210</td>\n",
              "      <td>0.918750</td>\n",
              "      <td>1.622327</td>\n",
              "      <td>0.875000</td>\n",
              "      <td>0.000316</td>\n",
              "    </tr>\n",
              "    <tr>\n",
              "      <th>4</th>\n",
              "      <td>1.348018</td>\n",
              "      <td>0.905797</td>\n",
              "      <td>1.318842</td>\n",
              "      <td>0.937500</td>\n",
              "      <td>0.000316</td>\n",
              "    </tr>\n",
              "    <tr>\n",
              "      <th>5</th>\n",
              "      <td>1.091061</td>\n",
              "      <td>0.937500</td>\n",
              "      <td>2.619386</td>\n",
              "      <td>0.875000</td>\n",
              "      <td>0.000316</td>\n",
              "    </tr>\n",
              "  </tbody>\n",
              "</table>\n",
              "</div>\n",
              "      <button class=\"colab-df-convert\" onclick=\"convertToInteractive('df-1f81f9b1-1586-4207-b321-6d7ebd86a936')\"\n",
              "              title=\"Convert this dataframe to an interactive table.\"\n",
              "              style=\"display:none;\">\n",
              "        \n",
              "  <svg xmlns=\"http://www.w3.org/2000/svg\" height=\"24px\"viewBox=\"0 0 24 24\"\n",
              "       width=\"24px\">\n",
              "    <path d=\"M0 0h24v24H0V0z\" fill=\"none\"/>\n",
              "    <path d=\"M18.56 5.44l.94 2.06.94-2.06 2.06-.94-2.06-.94-.94-2.06-.94 2.06-2.06.94zm-11 1L8.5 8.5l.94-2.06 2.06-.94-2.06-.94L8.5 2.5l-.94 2.06-2.06.94zm10 10l.94 2.06.94-2.06 2.06-.94-2.06-.94-.94-2.06-.94 2.06-2.06.94z\"/><path d=\"M17.41 7.96l-1.37-1.37c-.4-.4-.92-.59-1.43-.59-.52 0-1.04.2-1.43.59L10.3 9.45l-7.72 7.72c-.78.78-.78 2.05 0 2.83L4 21.41c.39.39.9.59 1.41.59.51 0 1.02-.2 1.41-.59l7.78-7.78 2.81-2.81c.8-.78.8-2.07 0-2.86zM5.41 20L4 18.59l7.72-7.72 1.47 1.35L5.41 20z\"/>\n",
              "  </svg>\n",
              "      </button>\n",
              "      \n",
              "  <style>\n",
              "    .colab-df-container {\n",
              "      display:flex;\n",
              "      flex-wrap:wrap;\n",
              "      gap: 12px;\n",
              "    }\n",
              "\n",
              "    .colab-df-convert {\n",
              "      background-color: #E8F0FE;\n",
              "      border: none;\n",
              "      border-radius: 50%;\n",
              "      cursor: pointer;\n",
              "      display: none;\n",
              "      fill: #1967D2;\n",
              "      height: 32px;\n",
              "      padding: 0 0 0 0;\n",
              "      width: 32px;\n",
              "    }\n",
              "\n",
              "    .colab-df-convert:hover {\n",
              "      background-color: #E2EBFA;\n",
              "      box-shadow: 0px 1px 2px rgba(60, 64, 67, 0.3), 0px 1px 3px 1px rgba(60, 64, 67, 0.15);\n",
              "      fill: #174EA6;\n",
              "    }\n",
              "\n",
              "    [theme=dark] .colab-df-convert {\n",
              "      background-color: #3B4455;\n",
              "      fill: #D2E3FC;\n",
              "    }\n",
              "\n",
              "    [theme=dark] .colab-df-convert:hover {\n",
              "      background-color: #434B5C;\n",
              "      box-shadow: 0px 1px 3px 1px rgba(0, 0, 0, 0.15);\n",
              "      filter: drop-shadow(0px 1px 2px rgba(0, 0, 0, 0.3));\n",
              "      fill: #FFFFFF;\n",
              "    }\n",
              "  </style>\n",
              "\n",
              "      <script>\n",
              "        const buttonEl =\n",
              "          document.querySelector('#df-1f81f9b1-1586-4207-b321-6d7ebd86a936 button.colab-df-convert');\n",
              "        buttonEl.style.display =\n",
              "          google.colab.kernel.accessAllowed ? 'block' : 'none';\n",
              "\n",
              "        async function convertToInteractive(key) {\n",
              "          const element = document.querySelector('#df-1f81f9b1-1586-4207-b321-6d7ebd86a936');\n",
              "          const dataTable =\n",
              "            await google.colab.kernel.invokeFunction('convertToInteractive',\n",
              "                                                     [key], {});\n",
              "          if (!dataTable) return;\n",
              "\n",
              "          const docLinkHtml = 'Like what you see? Visit the ' +\n",
              "            '<a target=\"_blank\" href=https://colab.research.google.com/notebooks/data_table.ipynb>data table notebook</a>'\n",
              "            + ' to learn more about interactive tables.';\n",
              "          element.innerHTML = '';\n",
              "          dataTable['output_type'] = 'display_data';\n",
              "          await google.colab.output.renderOutput(dataTable, element);\n",
              "          const docLink = document.createElement('div');\n",
              "          docLink.innerHTML = docLinkHtml;\n",
              "          element.appendChild(docLink);\n",
              "        }\n",
              "      </script>\n",
              "    </div>\n",
              "  </div>\n",
              "  "
            ]
          },
          "metadata": {},
          "execution_count": 33
        }
      ]
    },
    {
      "cell_type": "code",
      "source": [
        "import matplotlib.pyplot as plt\n",
        "plt.plot(history.history[\"accuracy\"])\n",
        "plt.plot(history.history['val_accuracy'])\n",
        "plt.plot(history.history['loss'])\n",
        "plt.plot(history.history['val_loss'])\n",
        "plt.title(\"model accuracy\")\n",
        "plt.ylabel(\"Accuracy\")\n",
        "plt.xlabel(\"Epoch\")\n",
        "plt.legend([\"Accuracy\",\"Validation Accuracy\",\"loss\",\"Validation Loss\"])\n",
        "plt.show()"
      ],
      "metadata": {
        "colab": {
          "base_uri": "https://localhost:8080/",
          "height": 295
        },
        "id": "9nXgtgspnRod",
        "outputId": "55bd381e-6e7a-4524-fddf-9f9b35a9a63c"
      },
      "execution_count": 36,
      "outputs": [
        {
          "output_type": "display_data",
          "data": {
            "text/plain": [
              "<Figure size 432x288 with 1 Axes>"
            ],
            "image/png": "[encoded data removed]"
          },
          "metadata": {
            "needs_background": "light"
          }
        }
      ]
    },
    {
      "cell_type": "code",
      "source": [
        "plt.style.use('dark_background')\n",
        "import matplotlib.pyplot as plt\n",
        "plt.figure(figsize=(20,10))\n",
        "plt.subplot(1, 2, 1)\n",
        "plt.suptitle('Optimizer : Adam', fontsize=10)\n",
        "plt.ylabel('Loss', fontsize=16)\n",
        "plt.plot(history.history['loss'], label='Training Loss')\n",
        "plt.plot(history.history['val_loss'], label='Validation Loss')\n",
        "plt.legend(loc='upper right')\n",
        "\n",
        "plt.subplot(1, 2, 2)\n",
        "plt.ylabel('Accuracy', fontsize=16)\n",
        "plt.plot(history.history['accuracy'], label='Training Accuracy')\n",
        "plt.plot(history.history['val_accuracy'], label='Validation Accuracy')\n",
        "plt.legend(loc='lower right')\n",
        "plt.show()"
      ],
      "metadata": {
        "colab": {
          "base_uri": "https://localhost:8080/",
          "height": 627
        },
        "id": "rfd9petmpWzJ",
        "outputId": "5fdc613a-b126-4daf-ec6d-cf793d2d1ea8"
      },
      "execution_count": 38,
      "outputs": [
        {
          "output_type": "display_data",
          "data": {
            "text/plain": [
              "<Figure size 1440x720 with 2 Axes>"
            ],
            "image/png": "[encoded data removed]"
          },
          "metadata": {}
        }
      ]
    },
    {
      "cell_type": "code",
      "source": [
        "IMAGE_SIZE = [224, 224]\n",
        "#Defining and downloading VGG 16 model\n",
        "vgg2 = VGG16(input_shape=IMAGE_SIZE + [3], weights='imagenet', include_top=False)"
      ],
      "metadata": {
        "id": "7-txGNxNpW1r"
      },
      "execution_count": 39,
      "outputs": []
    },
    {
      "cell_type": "code",
      "source": [
        "#Frzeeing existing weights\n",
        "for layer in vgg2.layers[:-2]:\n",
        "  layer.trainable = False"
      ],
      "metadata": {
        "id": "URCFycUdpW4L"
      },
      "execution_count": 40,
      "outputs": []
    },
    {
      "cell_type": "code",
      "source": [
        "#Frzeeing existing weights\n",
        "for layer in vgg2.layers:\n",
        "  print(layer,layer.trainable)\n"
      ],
      "metadata": {
        "colab": {
          "base_uri": "https://localhost:8080/"
        },
        "id": "RTWxnIsipW6g",
        "outputId": "ebd22f03-44e9-4b97-fee6-0baaccfedbdc"
      },
      "execution_count": 41,
      "outputs": [
        {
          "output_type": "stream",
          "name": "stdout",
          "text": [
            "<keras.engine.input_layer.InputLayer object at 0x7ff4c5382350> False\n",
            "<keras.layers.convolutional.Conv2D object at 0x7ff4c5382d10> False\n",
            "<keras.layers.convolutional.Conv2D object at 0x7ff4c5297cd0> False\n",
            "<keras.layers.pooling.MaxPooling2D object at 0x7ff4c5128f10> False\n",
            "<keras.layers.convolutional.Conv2D object at 0x7ff4c521dad0> False\n",
            "<keras.layers.convolutional.Conv2D object at 0x7ff4c52870d0> False\n",
            "<keras.layers.pooling.MaxPooling2D object at 0x7ff4c5139410> False\n",
            "<keras.layers.convolutional.Conv2D object at 0x7ff4c5140290> False\n",
            "<keras.layers.convolutional.Conv2D object at 0x7ff4c513b410> False\n",
            "<keras.layers.convolutional.Conv2D object at 0x7ff4c5141890> False\n",
            "<keras.layers.pooling.MaxPooling2D object at 0x7ff4c514ab10> False\n",
            "<keras.layers.convolutional.Conv2D object at 0x7ff4c5141390> False\n",
            "<keras.layers.convolutional.Conv2D object at 0x7ff4c514e5d0> False\n",
            "<keras.layers.convolutional.Conv2D object at 0x7ff4c51580d0> False\n",
            "<keras.layers.pooling.MaxPooling2D object at 0x7ff4c5156710> False\n",
            "<keras.layers.convolutional.Conv2D object at 0x7ff4c5158890> False\n",
            "<keras.layers.convolutional.Conv2D object at 0x7ff4c515e3d0> False\n",
            "<keras.layers.convolutional.Conv2D object at 0x7ff4c50ee7d0> True\n",
            "<keras.layers.pooling.MaxPooling2D object at 0x7ff4c5153990> True\n"
          ]
        }
      ]
    },
    {
      "cell_type": "code",
      "source": [
        "# useful for getting number of classes\n",
        "folders = glob(\"/content/drive/MyDrive/Imarticus/DL EXAM/Shoe Classification/train/*\")\n",
        "print(len(folders))"
      ],
      "metadata": {
        "colab": {
          "base_uri": "https://localhost:8080/"
        },
        "id": "Wl6Ets-XpW80",
        "outputId": "4cbfa1c8-6818-4f09-e572-c48d02cef0b3"
      },
      "execution_count": 42,
      "outputs": [
        {
          "output_type": "stream",
          "name": "stdout",
          "text": [
            "3\n"
          ]
        }
      ]
    },
    {
      "cell_type": "code",
      "source": [
        "l1=Conv2D(filters=512, kernel_size=(3,3), padding=\"same\", activation=\"relu\")(vgg2.output)\n",
        "l2=MaxPool2D(pool_size=(2,2),strides=(2,2))(l1)\n",
        "l3=Conv2D(filters=512, kernel_size=(3,3),activation=\"relu\")(l2)\n",
        "x = Flatten()(l3)\n",
        "prediction = Dense(len(folders), activation='softmax')(x)\n",
        "model = Model(inputs=vgg2.input, outputs=prediction)\n",
        "model.summary()"
      ],
      "metadata": {
        "colab": {
          "base_uri": "https://localhost:8080/"
        },
        "id": "7Hysg30bpW_M",
        "outputId": "b5c4dbb9-9bb6-464f-97fc-1863ab59d00f"
      },
      "execution_count": 44,
      "outputs": [
        {
          "output_type": "stream",
          "name": "stdout",
          "text": [
            "Model: \"model_3\"\n",
            "_________________________________________________________________\n",
            " Layer (type)                Output Shape              Param #   \n",
            "=================================================================\n",
            " input_3 (InputLayer)        [(None, 224, 224, 3)]     0         \n",
            "                                                                 \n",
            " block1_conv1 (Conv2D)       (None, 224, 224, 64)      1792      \n",
            "                                                                 \n",
            " block1_conv2 (Conv2D)       (None, 224, 224, 64)      36928     \n",
            "                                                                 \n",
            " block1_pool (MaxPooling2D)  (None, 112, 112, 64)      0         \n",
            "                                                                 \n",
            " block2_conv1 (Conv2D)       (None, 112, 112, 128)     73856     \n",
            "                                                                 \n",
            " block2_conv2 (Conv2D)       (None, 112, 112, 128)     147584    \n",
            "                                                                 \n",
            " block2_pool (MaxPooling2D)  (None, 56, 56, 128)       0         \n",
            "                                                                 \n",
            " block3_conv1 (Conv2D)       (None, 56, 56, 256)       295168    \n",
            "                                                                 \n",
            " block3_conv2 (Conv2D)       (None, 56, 56, 256)       590080    \n",
            "                                                                 \n",
            " block3_conv3 (Conv2D)       (None, 56, 56, 256)       590080    \n",
            "                                                                 \n",
            " block3_pool (MaxPooling2D)  (None, 28, 28, 256)       0         \n",
            "                                                                 \n",
            " block4_conv1 (Conv2D)       (None, 28, 28, 512)       1180160   \n",
            "                                                                 \n",
            " block4_conv2 (Conv2D)       (None, 28, 28, 512)       2359808   \n",
            "                                                                 \n",
            " block4_conv3 (Conv2D)       (None, 28, 28, 512)       2359808   \n",
            "                                                                 \n",
            " block4_pool (MaxPooling2D)  (None, 14, 14, 512)       0         \n",
            "                                                                 \n",
            " block5_conv1 (Conv2D)       (None, 14, 14, 512)       2359808   \n",
            "                                                                 \n",
            " block5_conv2 (Conv2D)       (None, 14, 14, 512)       2359808   \n",
            "                                                                 \n",
            " block5_conv3 (Conv2D)       (None, 14, 14, 512)       2359808   \n",
            "                                                                 \n",
            " block5_pool (MaxPooling2D)  (None, 7, 7, 512)         0         \n",
            "                                                                 \n",
            " conv2d_14 (Conv2D)          (None, 7, 7, 512)         2359808   \n",
            "                                                                 \n",
            " max_pooling2d_6 (MaxPooling  (None, 3, 3, 512)        0         \n",
            " 2D)                                                             \n",
            "                                                                 \n",
            " conv2d_15 (Conv2D)          (None, 1, 1, 512)         2359808   \n",
            "                                                                 \n",
            " flatten_4 (Flatten)         (None, 512)               0         \n",
            "                                                                 \n",
            " dense_4 (Dense)             (None, 3)                 1539      \n",
            "                                                                 \n",
            "=================================================================\n",
            "Total params: 19,435,843\n",
            "Trainable params: 7,080,963\n",
            "Non-trainable params: 12,354,880\n",
            "_________________________________________________________________\n"
          ]
        }
      ]
    },
    {
      "cell_type": "code",
      "source": [
        "model.compile(loss='CategoricalCrossentropy', optimizer='adam',metrics=['accuracy'])"
      ],
      "metadata": {
        "id": "Hcup-F3OpXBW"
      },
      "execution_count": 45,
      "outputs": []
    },
    {
      "cell_type": "code",
      "source": [
        "checkpoint = ModelCheckpoint(filepath='vgg16_convadd_pretrained.h5', \n",
        "                               verbose=1, save_best_only=True)\n",
        "\n",
        "early_stopping = EarlyStopping(monitor='val_loss',\n",
        "                          min_delta=0,\n",
        "                          patience=5,\n",
        "                          verbose=1,\n",
        "                          restore_best_weights=True\n",
        "                          )\n",
        "\n",
        "lr_reducer = ReduceLROnPlateau(factor=np.sqrt(0.1),\n",
        "                               cooldown=0,\n",
        "                               patience=5,\n",
        "                               min_lr=0.5e-6)\n",
        "\n",
        "\n",
        "callbacks = [checkpoint,early_stopping,lr_reducer]\n",
        "\n",
        "#callbacks = [checkpoint]\n",
        "\n",
        "start = datetime.now()\n",
        "\n",
        "history = model.fit_generator(\n",
        "  train_set,\n",
        "  validation_data=valid_set,\n",
        "  epochs=30,\n",
        "  steps_per_epoch=5,\n",
        "  validation_steps=valid_set.n //valid_set.batch_size,\n",
        "    callbacks=callbacks)\n",
        "\n",
        "\n",
        "duration = datetime.now() - start\n",
        "print(\"Training completed in time: \", duration)     "
      ],
      "metadata": {
        "colab": {
          "base_uri": "https://localhost:8080/"
        },
        "id": "t1cQbEO9pXEP",
        "outputId": "bb175110-a8b7-48bf-d723-1fd402b6031b"
      },
      "execution_count": 46,
      "outputs": [
        {
          "output_type": "stream",
          "name": "stderr",
          "text": [
            "/usr/local/lib/python3.7/dist-packages/ipykernel_launcher.py:29: UserWarning: `Model.fit_generator` is deprecated and will be removed in a future version. Please use `Model.fit`, which supports generators.\n"
          ]
        },
        {
          "output_type": "stream",
          "name": "stdout",
          "text": [
            "Epoch 1/30\n",
            "5/5 [==============================] - ETA: 0s - loss: 109.9327 - accuracy: 0.3313\n",
            "Epoch 1: val_loss improved from inf to 3.04758, saving model to vgg16_convadd_pretrained.h5\n",
            "5/5 [==============================] - 7s 1s/step - loss: 109.9327 - accuracy: 0.3313 - val_loss: 3.0476 - val_accuracy: 0.3438 - lr: 0.0010\n",
            "Epoch 2/30\n",
            "5/5 [==============================] - ETA: 0s - loss: 1.4320 - accuracy: 0.5125\n",
            "Epoch 2: val_loss improved from 3.04758 to 0.97706, saving model to vgg16_convadd_pretrained.h5\n",
            "5/5 [==============================] - 5s 1s/step - loss: 1.4320 - accuracy: 0.5125 - val_loss: 0.9771 - val_accuracy: 0.4844 - lr: 0.0010\n",
            "Epoch 3/30\n",
            "5/5 [==============================] - ETA: 0s - loss: 0.8292 - accuracy: 0.5797\n",
            "Epoch 3: val_loss improved from 0.97706 to 0.84255, saving model to vgg16_convadd_pretrained.h5\n",
            "5/5 [==============================] - 5s 987ms/step - loss: 0.8292 - accuracy: 0.5797 - val_loss: 0.8426 - val_accuracy: 0.6562 - lr: 0.0010\n",
            "Epoch 4/30\n",
            "5/5 [==============================] - ETA: 0s - loss: 0.6014 - accuracy: 0.7174\n",
            "Epoch 4: val_loss improved from 0.84255 to 0.59193, saving model to vgg16_convadd_pretrained.h5\n",
            "5/5 [==============================] - 5s 1s/step - loss: 0.6014 - accuracy: 0.7174 - val_loss: 0.5919 - val_accuracy: 0.7500 - lr: 0.0010\n",
            "Epoch 5/30\n",
            "5/5 [==============================] - ETA: 0s - loss: 0.4085 - accuracy: 0.8125\n",
            "Epoch 5: val_loss improved from 0.59193 to 0.40753, saving model to vgg16_convadd_pretrained.h5\n",
            "5/5 [==============================] - 5s 1s/step - loss: 0.4085 - accuracy: 0.8125 - val_loss: 0.4075 - val_accuracy: 0.8125 - lr: 0.0010\n",
            "Epoch 6/30\n",
            "5/5 [==============================] - ETA: 0s - loss: 0.2294 - accuracy: 0.9187\n",
            "Epoch 6: val_loss improved from 0.40753 to 0.29850, saving model to vgg16_convadd_pretrained.h5\n",
            "5/5 [==============================] - 5s 1s/step - loss: 0.2294 - accuracy: 0.9187 - val_loss: 0.2985 - val_accuracy: 0.9219 - lr: 0.0010\n",
            "Epoch 7/30\n",
            "5/5 [==============================] - ETA: 0s - loss: 0.2508 - accuracy: 0.9125\n",
            "Epoch 7: val_loss improved from 0.29850 to 0.16588, saving model to vgg16_convadd_pretrained.h5\n",
            "5/5 [==============================] - 5s 1s/step - loss: 0.2508 - accuracy: 0.9125 - val_loss: 0.1659 - val_accuracy: 0.9375 - lr: 0.0010\n",
            "Epoch 8/30\n",
            "5/5 [==============================] - ETA: 0s - loss: 0.1938 - accuracy: 0.9438\n",
            "Epoch 8: val_loss did not improve from 0.16588\n",
            "5/5 [==============================] - 4s 912ms/step - loss: 0.1938 - accuracy: 0.9438 - val_loss: 0.3788 - val_accuracy: 0.9062 - lr: 0.0010\n",
            "Epoch 9/30\n",
            "5/5 [==============================] - ETA: 0s - loss: 0.1823 - accuracy: 0.9563\n",
            "Epoch 9: val_loss did not improve from 0.16588\n",
            "5/5 [==============================] - 4s 903ms/step - loss: 0.1823 - accuracy: 0.9563 - val_loss: 0.3159 - val_accuracy: 0.9219 - lr: 0.0010\n",
            "Epoch 10/30\n",
            "5/5 [==============================] - ETA: 0s - loss: 0.3309 - accuracy: 0.8623\n",
            "Epoch 10: val_loss did not improve from 0.16588\n",
            "5/5 [==============================] - 4s 900ms/step - loss: 0.3309 - accuracy: 0.8623 - val_loss: 0.5769 - val_accuracy: 0.7812 - lr: 0.0010\n",
            "Epoch 11/30\n",
            "5/5 [==============================] - ETA: 0s - loss: 0.5428 - accuracy: 0.8375\n",
            "Epoch 11: val_loss did not improve from 0.16588\n",
            "5/5 [==============================] - 4s 892ms/step - loss: 0.5428 - accuracy: 0.8375 - val_loss: 0.4023 - val_accuracy: 0.8281 - lr: 0.0010\n",
            "Epoch 12/30\n",
            "5/5 [==============================] - ETA: 0s - loss: 0.3302 - accuracy: 0.8500\n",
            "Epoch 12: val_loss did not improve from 0.16588\n",
            "Restoring model weights from the end of the best epoch: 7.\n",
            "5/5 [==============================] - 4s 871ms/step - loss: 0.3302 - accuracy: 0.8500 - val_loss: 0.7295 - val_accuracy: 0.6406 - lr: 0.0010\n",
            "Epoch 12: early stopping\n",
            "Training completed in time:  0:01:00.071171\n"
          ]
        }
      ]
    },
    {
      "cell_type": "code",
      "source": [
        "plt.style.use('dark_background')\n",
        "import matplotlib.pyplot as plt\n",
        "plt.figure(figsize=(20,10))\n",
        "plt.subplot(1, 2, 1)\n",
        "plt.suptitle('Optimizer : Adam', fontsize=10)\n",
        "plt.ylabel('Loss', fontsize=16)\n",
        "plt.plot(history.history['loss'], label='Training Loss')\n",
        "plt.plot(history.history['val_loss'], label='Validation Loss')\n",
        "plt.legend(loc='upper right')\n",
        "\n",
        "plt.subplot(1, 2, 2)\n",
        "plt.ylabel('Accuracy', fontsize=16)\n",
        "plt.plot(history.history['accuracy'], label='Training Accuracy')\n",
        "plt.plot(history.history['val_accuracy'], label='Validation Accuracy')\n",
        "plt.legend(loc='lower right')\n",
        "plt.show()"
      ],
      "metadata": {
        "colab": {
          "base_uri": "https://localhost:8080/",
          "height": 629
        },
        "id": "v-fW-RdDpXGQ",
        "outputId": "6c509803-cbfd-454d-eca3-a06e51ef649b"
      },
      "execution_count": 47,
      "outputs": [
        {
          "output_type": "display_data",
          "data": {
            "text/plain": [
              "<Figure size 1440x720 with 2 Axes>"
            ],
            "image/png": "[encoded data removed]"
          },
          "metadata": {}
        }
      ]
    },
    {
      "cell_type": "code",
      "source": [
        "import pandas as pd\n",
        "df = pd.DataFrame(history.history)\n",
        "df"
      ],
      "metadata": {
        "colab": {
          "base_uri": "https://localhost:8080/",
          "height": 426
        },
        "id": "AzOWRSV3pXIh",
        "outputId": "95183ff5-1abd-4afa-bf45-b23d9c1a164d"
      },
      "execution_count": 48,
      "outputs": [
        {
          "output_type": "execute_result",
          "data": {
            "text/plain": [
              "          loss  accuracy  val_loss  val_accuracy     lr\n",
              "0   109.932693  0.331250  3.047579      0.343750  0.001\n",
              "1     1.432037  0.512500  0.977056      0.484375  0.001\n",
              "2     0.829237  0.579710  0.842554      0.656250  0.001\n",
              "3     0.601450  0.717391  0.591926      0.750000  0.001\n",
              "4     0.408469  0.812500  0.407534      0.812500  0.001\n",
              "5     0.229448  0.918750  0.298501      0.921875  0.001\n",
              "6     0.250806  0.912500  0.165878      0.937500  0.001\n",
              "7     0.193770  0.943750  0.378774      0.906250  0.001\n",
              "8     0.182323  0.956250  0.315859      0.921875  0.001\n",
              "9     0.330923  0.862319  0.576891      0.781250  0.001\n",
              "10    0.542755  0.837500  0.402260      0.828125  0.001\n",
              "11    0.330237  0.850000  0.729546      0.640625  0.001"
            ],
            "text/html": [
              "\n",
              "  <div id=\"df-e6d9a9e6-6c9e-42a0-ac21-c89d3957ebb2\">\n",
              "    <div class=\"colab-df-container\">\n",
              "      <div>\n",
              "<style scoped>\n",
              "    .dataframe tbody tr th:only-of-type {\n",
              "        vertical-align: middle;\n",
              "    }\n",
              "\n",
              "    .dataframe tbody tr th {\n",
              "        vertical-align: top;\n",
              "    }\n",
              "\n",
              "    .dataframe thead th {\n",
              "        text-align: right;\n",
              "    }\n",
              "</style>\n",
              "<table border=\"1\" class=\"dataframe\">\n",
              "  <thead>\n",
              "    <tr style=\"text-align: right;\">\n",
              "      <th></th>\n",
              "      <th>loss</th>\n",
              "      <th>accuracy</th>\n",
              "      <th>val_loss</th>\n",
              "      <th>val_accuracy</th>\n",
              "      <th>lr</th>\n",
              "    </tr>\n",
              "  </thead>\n",
              "  <tbody>\n",
              "    <tr>\n",
              "      <th>0</th>\n",
              "      <td>109.932693</td>\n",
              "      <td>0.331250</td>\n",
              "      <td>3.047579</td>\n",
              "      <td>0.343750</td>\n",
              "      <td>0.001</td>\n",
              "    </tr>\n",
              "    <tr>\n",
              "      <th>1</th>\n",
              "      <td>1.432037</td>\n",
              "      <td>0.512500</td>\n",
              "      <td>0.977056</td>\n",
              "      <td>0.484375</td>\n",
              "      <td>0.001</td>\n",
              "    </tr>\n",
              "    <tr>\n",
              "      <th>2</th>\n",
              "      <td>0.829237</td>\n",
              "      <td>0.579710</td>\n",
              "      <td>0.842554</td>\n",
              "      <td>0.656250</td>\n",
              "      <td>0.001</td>\n",
              "    </tr>\n",
              "    <tr>\n",
              "      <th>3</th>\n",
              "      <td>0.601450</td>\n",
              "      <td>0.717391</td>\n",
              "      <td>0.591926</td>\n",
              "      <td>0.750000</td>\n",
              "      <td>0.001</td>\n",
              "    </tr>\n",
              "    <tr>\n",
              "      <th>4</th>\n",
              "      <td>0.408469</td>\n",
              "      <td>0.812500</td>\n",
              "      <td>0.407534</td>\n",
              "      <td>0.812500</td>\n",
              "      <td>0.001</td>\n",
              "    </tr>\n",
              "    <tr>\n",
              "      <th>5</th>\n",
              "      <td>0.229448</td>\n",
              "      <td>0.918750</td>\n",
              "      <td>0.298501</td>\n",
              "      <td>0.921875</td>\n",
              "      <td>0.001</td>\n",
              "    </tr>\n",
              "    <tr>\n",
              "      <th>6</th>\n",
              "      <td>0.250806</td>\n",
              "      <td>0.912500</td>\n",
              "      <td>0.165878</td>\n",
              "      <td>0.937500</td>\n",
              "      <td>0.001</td>\n",
              "    </tr>\n",
              "    <tr>\n",
              "      <th>7</th>\n",
              "      <td>0.193770</td>\n",
              "      <td>0.943750</td>\n",
              "      <td>0.378774</td>\n",
              "      <td>0.906250</td>\n",
              "      <td>0.001</td>\n",
              "    </tr>\n",
              "    <tr>\n",
              "      <th>8</th>\n",
              "      <td>0.182323</td>\n",
              "      <td>0.956250</td>\n",
              "      <td>0.315859</td>\n",
              "      <td>0.921875</td>\n",
              "      <td>0.001</td>\n",
              "    </tr>\n",
              "    <tr>\n",
              "      <th>9</th>\n",
              "      <td>0.330923</td>\n",
              "      <td>0.862319</td>\n",
              "      <td>0.576891</td>\n",
              "      <td>0.781250</td>\n",
              "      <td>0.001</td>\n",
              "    </tr>\n",
              "    <tr>\n",
              "      <th>10</th>\n",
              "      <td>0.542755</td>\n",
              "      <td>0.837500</td>\n",
              "      <td>0.402260</td>\n",
              "      <td>0.828125</td>\n",
              "      <td>0.001</td>\n",
              "    </tr>\n",
              "    <tr>\n",
              "      <th>11</th>\n",
              "      <td>0.330237</td>\n",
              "      <td>0.850000</td>\n",
              "      <td>0.729546</td>\n",
              "      <td>0.640625</td>\n",
              "      <td>0.001</td>\n",
              "    </tr>\n",
              "  </tbody>\n",
              "</table>\n",
              "</div>\n",
              "      <button class=\"colab-df-convert\" onclick=\"convertToInteractive('df-e6d9a9e6-6c9e-42a0-ac21-c89d3957ebb2')\"\n",
              "              title=\"Convert this dataframe to an interactive table.\"\n",
              "              style=\"display:none;\">\n",
              "        \n",
              "  <svg xmlns=\"http://www.w3.org/2000/svg\" height=\"24px\"viewBox=\"0 0 24 24\"\n",
              "       width=\"24px\">\n",
              "    <path d=\"M0 0h24v24H0V0z\" fill=\"none\"/>\n",
              "    <path d=\"M18.56 5.44l.94 2.06.94-2.06 2.06-.94-2.06-.94-.94-2.06-.94 2.06-2.06.94zm-11 1L8.5 8.5l.94-2.06 2.06-.94-2.06-.94L8.5 2.5l-.94 2.06-2.06.94zm10 10l.94 2.06.94-2.06 2.06-.94-2.06-.94-.94-2.06-.94 2.06-2.06.94z\"/><path d=\"M17.41 7.96l-1.37-1.37c-.4-.4-.92-.59-1.43-.59-.52 0-1.04.2-1.43.59L10.3 9.45l-7.72 7.72c-.78.78-.78 2.05 0 2.83L4 21.41c.39.39.9.59 1.41.59.51 0 1.02-.2 1.41-.59l7.78-7.78 2.81-2.81c.8-.78.8-2.07 0-2.86zM5.41 20L4 18.59l7.72-7.72 1.47 1.35L5.41 20z\"/>\n",
              "  </svg>\n",
              "      </button>\n",
              "      \n",
              "  <style>\n",
              "    .colab-df-container {\n",
              "      display:flex;\n",
              "      flex-wrap:wrap;\n",
              "      gap: 12px;\n",
              "    }\n",
              "\n",
              "    .colab-df-convert {\n",
              "      background-color: #E8F0FE;\n",
              "      border: none;\n",
              "      border-radius: 50%;\n",
              "      cursor: pointer;\n",
              "      display: none;\n",
              "      fill: #1967D2;\n",
              "      height: 32px;\n",
              "      padding: 0 0 0 0;\n",
              "      width: 32px;\n",
              "    }\n",
              "\n",
              "    .colab-df-convert:hover {\n",
              "      background-color: #E2EBFA;\n",
              "      box-shadow: 0px 1px 2px rgba(60, 64, 67, 0.3), 0px 1px 3px 1px rgba(60, 64, 67, 0.15);\n",
              "      fill: #174EA6;\n",
              "    }\n",
              "\n",
              "    [theme=dark] .colab-df-convert {\n",
              "      background-color: #3B4455;\n",
              "      fill: #D2E3FC;\n",
              "    }\n",
              "\n",
              "    [theme=dark] .colab-df-convert:hover {\n",
              "      background-color: #434B5C;\n",
              "      box-shadow: 0px 1px 3px 1px rgba(0, 0, 0, 0.15);\n",
              "      filter: drop-shadow(0px 1px 2px rgba(0, 0, 0, 0.3));\n",
              "      fill: #FFFFFF;\n",
              "    }\n",
              "  </style>\n",
              "\n",
              "      <script>\n",
              "        const buttonEl =\n",
              "          document.querySelector('#df-e6d9a9e6-6c9e-42a0-ac21-c89d3957ebb2 button.colab-df-convert');\n",
              "        buttonEl.style.display =\n",
              "          google.colab.kernel.accessAllowed ? 'block' : 'none';\n",
              "\n",
              "        async function convertToInteractive(key) {\n",
              "          const element = document.querySelector('#df-e6d9a9e6-6c9e-42a0-ac21-c89d3957ebb2');\n",
              "          const dataTable =\n",
              "            await google.colab.kernel.invokeFunction('convertToInteractive',\n",
              "                                                     [key], {});\n",
              "          if (!dataTable) return;\n",
              "\n",
              "          const docLinkHtml = 'Like what you see? Visit the ' +\n",
              "            '<a target=\"_blank\" href=https://colab.research.google.com/notebooks/data_table.ipynb>data table notebook</a>'\n",
              "            + ' to learn more about interactive tables.';\n",
              "          element.innerHTML = '';\n",
              "          dataTable['output_type'] = 'display_data';\n",
              "          await google.colab.output.renderOutput(dataTable, element);\n",
              "          const docLink = document.createElement('div');\n",
              "          docLink.innerHTML = docLinkHtml;\n",
              "          element.appendChild(docLink);\n",
              "        }\n",
              "      </script>\n",
              "    </div>\n",
              "  </div>\n",
              "  "
            ]
          },
          "metadata": {},
          "execution_count": 48
        }
      ]
    },
    {
      "cell_type": "code",
      "source": [
        "print(max(df.val_accuracy))"
      ],
      "metadata": {
        "colab": {
          "base_uri": "https://localhost:8080/"
        },
        "id": "c3-R8d2KpXK6",
        "outputId": "00f364c9-2a52-4518-8e7e-124ac07058da"
      },
      "execution_count": 49,
      "outputs": [
        {
          "output_type": "stream",
          "name": "stdout",
          "text": [
            "0.9375\n"
          ]
        }
      ]
    },
    {
      "cell_type": "markdown",
      "source": [
        "This looks like the best model for this dataset is VGG16 pretrained model with last two layers trained again and one convolution layer added extra to reduce the image size to 1*1 (an ideal final feature shape) \n",
        "\n",
        "The Validation loss is decreasing exponentially and being constant near training loss making the model best and validation accuracy is better since the dataset is very small "
      ],
      "metadata": {
        "id": "QJeMQeQiuTg-"
      }
    },
    {
      "cell_type": "code",
      "source": [
        ""
      ],
      "metadata": {
        "id": "S9PxGcN5pXNl"
      },
      "execution_count": null,
      "outputs": []
    },
    {
      "cell_type": "code",
      "source": [
        ""
      ],
      "metadata": {
        "id": "7k8DkiQ5pXQX"
      },
      "execution_count": null,
      "outputs": []
    },
    {
      "cell_type": "code",
      "source": [
        ""
      ],
      "metadata": {
        "id": "GL2FY8RepXTC"
      },
      "execution_count": null,
      "outputs": []
    },
    {
      "cell_type": "code",
      "source": [
        ""
      ],
      "metadata": {
        "id": "Gse1evc4pXV6"
      },
      "execution_count": null,
      "outputs": []
    },
    {
      "cell_type": "code",
      "source": [
        ""
      ],
      "metadata": {
        "id": "Ku5_9qtPpXYh"
      },
      "execution_count": null,
      "outputs": []
    },
    {
      "cell_type": "code",
      "source": [
        ""
      ],
      "metadata": {
        "id": "UMtd168FnRq7"
      },
      "execution_count": null,
      "outputs": []
    },
    {
      "cell_type": "code",
      "source": [
        ""
      ],
      "metadata": {
        "id": "MKb7jta7nRte"
      },
      "execution_count": null,
      "outputs": []
    }
  ]
}